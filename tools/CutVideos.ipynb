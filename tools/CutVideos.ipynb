{
 "cells": [
  {
   "cell_type": "code",
   "execution_count": 2,
   "metadata": {},
   "outputs": [],
   "source": [
    "import os\n",
    "import pandas as pd\n",
    "import cv2"
   ]
  },
  {
   "cell_type": "code",
   "execution_count": 3,
   "metadata": {},
   "outputs": [],
   "source": [
    "# Set csv path\n",
    "csv1_path = '../Geminiden/kam1.csv'\n",
    "csv2_path = '../Geminiden/kam2.csv'\n",
    "\n",
    "\n",
    "path_c1 = \"/media/disk1/KILabDaten/Geminiden2021/Kamera1/\"\n",
    "path_c2 = \"/media/disk1/KILabDaten/Geminiden2021/Kamera2/\"\n",
    "fileend = '.mov'\n",
    "\n",
    "outpath_c1 = path_c1 + \"MeteorFrames/\"\n",
    "outpath_c2 = path_c2 + \"MeteorFrames/\""
   ]
  },
  {
   "cell_type": "markdown",
   "metadata": {},
   "source": [
    "# Chose which cam to use"
   ]
  },
  {
   "cell_type": "code",
   "execution_count": 4,
   "metadata": {},
   "outputs": [],
   "source": [
    "camnum = 2"
   ]
  },
  {
   "cell_type": "code",
   "execution_count": 5,
   "metadata": {},
   "outputs": [],
   "source": [
    "camdict = {1:[csv1_path, path_c1, outpath_c1], 2:[csv2_path, path_c2, outpath_c2]}\n",
    "\n",
    "file_path = camdict[camnum][1] #path_c1\n",
    "csv_path = camdict[camnum][0] #csv1_path\n",
    "outpath = camdict[camnum][2] #outpath_c1\n",
    "\n",
    "if not os.path.isdir(outpath):\n",
    "  os.makedirs(outpath)"
   ]
  },
  {
   "cell_type": "markdown",
   "metadata": {},
   "source": [
    "# Run the script"
   ]
  },
  {
   "cell_type": "code",
   "execution_count": 20,
   "metadata": {},
   "outputs": [
    {
     "name": "stdout",
     "output_type": "stream",
     "text": [
      "   Nr.              Dateiname  CTL  H geschätzt mag Pos.  GEM  Sonst.  \\\n",
      "0    1  NINJA3_S001_S001_T001   46               -1   ol  1.0     NaN   \n",
      "1    2  NINJA3_S001_S001_T001  160                2   ur  NaN     1.0   \n",
      "2    3  NINJA3_S001_S001_T001  181                4    m  NaN     1.0   \n",
      "3    4  NINJA3_S001_S001_T001  279                4   um  1.0     NaN   \n",
      "4    5  NINJA3_S001_S001_T001  279                1   um  1.0     NaN   \n",
      "\n",
      "  Bemerkungen  CTLend  \n",
      "0         NaN      50  \n",
      "1         NaN     164  \n",
      "2         NaN     185  \n",
      "3         NaN     283  \n",
      "4         NaN     283  \n"
     ]
    }
   ],
   "source": [
    "df = pd.read_csv(csv_path, sep=';', encoding='latin-1')\n",
    "df['CTL'] = pd.to_datetime(df['CTL'].str.strip(), format='%H:%M:%S')#.dt.time\n",
    "\n",
    "df['CTLend'] = df['CTL'] + pd.Timedelta(seconds=4)\n",
    "df.CTL = df.CTL#.dt.time\n",
    "df.CTLend = df.CTLend#.dt.time\n",
    "\n",
    "df['CTL'] = df['CTL'].dt.hour + df['CTL'].dt.minute*60 + df['CTL'].dt.second\n",
    "df['CTLend'] = df['CTLend'].dt.hour + df['CTLend'].dt.minute*60 + df['CTLend'].dt.second\n",
    "\n",
    "print(df.head())"
   ]
  },
  {
   "cell_type": "code",
   "execution_count": 21,
   "metadata": {},
   "outputs": [],
   "source": [
    "col_data_name = df['Dateiname'].tolist()\n",
    "col_start = df['CTL'].tolist()\n",
    "col_end = df['CTLend'].tolist()\n",
    "col_num = df['Nr.']"
   ]
  },
  {
   "cell_type": "code",
   "execution_count": 22,
   "metadata": {},
   "outputs": [],
   "source": [
    "#return video length in seconds\n",
    "def video_length(filename):\n",
    "    video = cv2.VideoCapture(filename)\n",
    "\n",
    "    duration = video.get(cv2.CAP_PROP_POS_MSEC)\n",
    "    fps = video.get(cv2.CAP_PROP_FPS)\n",
    "    frame_count = video.get(cv2.CAP_PROP_FRAME_COUNT)\n",
    "\n",
    "    print(filename)\n",
    "    duration = frame_count/fps\n",
    "\n",
    "    video.release()\n",
    "    return int(duration), frame_count, fps\n",
    "\n",
    "#d = video_length(\"D:\\Geminiden 2021/Kamera 1/NINJA2_S001_S001_T007.MOV\")\n",
    "#print(d)"
   ]
  },
  {
   "cell_type": "code",
   "execution_count": 23,
   "metadata": {},
   "outputs": [],
   "source": [
    "name_time_id_dict = {}\n",
    "\n",
    "for name, start, id in zip(col_data_name, col_start, col_num):\n",
    "    if name not in name_time_id_dict:\n",
    "        name_time_id_dict[name] = []\n",
    "    \n",
    "    \n",
    "    name_time_id_dict[name].append([id, start])"
   ]
  },
  {
   "cell_type": "code",
   "execution_count": 24,
   "metadata": {},
   "outputs": [
    {
     "name": "stdout",
     "output_type": "stream",
     "text": [
      "/media/disk1/KILabDaten/Geminiden2021/Kamera2/NINJA3_S001_S001_T001.MOV\n",
      "/media/disk1/KILabDaten/Geminiden2021/Kamera2/NINJA3_S001_S001_T005.MOV\n",
      "/media/disk1/KILabDaten/Geminiden2021/Kamera2/NINJA3_S001_S001_T006.MOV\n",
      "/media/disk1/KILabDaten/Geminiden2021/Kamera2/NINJA3_S001_S001_T009.MOV\n",
      "/media/disk1/KILabDaten/Geminiden2021/Kamera2/NINJA3_S001_S001_T012.MOV\n"
     ]
    }
   ],
   "source": [
    "n_dict = {}\n",
    "\n",
    "for file in name_time_id_dict:\n",
    "    fdir = file_path + file + '.MOV'\n",
    "    l, framecount, _ = video_length(fdir)\n",
    "    n_dict[file] = []\n",
    "    for x in name_time_id_dict[file]:\n",
    "        i, s = x\n",
    "        nstart = s*25-5*25\n",
    "        nend = s*25+5*25\n",
    "        if nstart<1:\n",
    "            nstart = 1\n",
    "        if nend > int(framecount):\n",
    "            nend = int(framecount)\n",
    "        n_dict[file].append([i, nstart, nend])"
   ]
  },
  {
   "cell_type": "code",
   "execution_count": 26,
   "metadata": {},
   "outputs": [
    {
     "name": "stdout",
     "output_type": "stream",
     "text": [
      "/media/disk1/KILabDaten/Geminiden2021/Kamera2/NINJA3_S001_S001_T001.MOV\n",
      "/media/disk1/KILabDaten/Geminiden2021/Kamera2/NINJA3_S001_S001_T005.MOV\n",
      "/media/disk1/KILabDaten/Geminiden2021/Kamera2/NINJA3_S001_S001_T006.MOV\n",
      "/media/disk1/KILabDaten/Geminiden2021/Kamera2/NINJA3_S001_S001_T009.MOV\n",
      "/media/disk1/KILabDaten/Geminiden2021/Kamera2/NINJA3_S001_S001_T012.MOV\n"
     ]
    }
   ],
   "source": [
    "frame_to_id_dict= {}\n",
    "\n",
    "\n",
    "for file in n_dict:\n",
    "    fdir = file_path + file + '.MOV'\n",
    "    l, framecount, _ = video_length(fdir)\n",
    "\n",
    "    frame_to_id_dict[file] = {}\n",
    "\n",
    "    ids = [i[0] for i in n_dict[file]]\n",
    "    starttimes = [i[1] for i in n_dict[file]]\n",
    "    endtimes = [i[2] for i in n_dict[file]]\n",
    "\n",
    "    for id, s, e in zip(ids,starttimes, endtimes):\n",
    "        for j in range(s,e+1):\n",
    "            if j not in frame_to_id_dict[file]:\n",
    "                frame_to_id_dict[file][j]=[]\n",
    "            if id not in frame_to_id_dict[file][j]:\n",
    "                frame_to_id_dict[file][j].append(id)\n",
    "\n"
   ]
  },
  {
   "cell_type": "code",
   "execution_count": 27,
   "metadata": {},
   "outputs": [
    {
     "name": "stdout",
     "output_type": "stream",
     "text": [
      "0\n"
     ]
    }
   ],
   "source": [
    "print(len(df.loc[df['Dateiname'] == 'NINJA2_S001_S001_T009']))"
   ]
  },
  {
   "cell_type": "code",
   "execution_count": null,
   "metadata": {},
   "outputs": [],
   "source": [
    "ignore_list = ['NINJA2_S001_S001_T007']"
   ]
  },
  {
   "cell_type": "code",
   "execution_count": 50,
   "metadata": {},
   "outputs": [
    {
     "name": "stdout",
     "output_type": "stream",
     "text": [
      "NINJA2_S001_S001_T007\n"
     ]
    }
   ],
   "source": [
    "for file in frame_to_id_dict:\n",
    "    fdir = file_path + file + '.MOV'\n",
    "    l, framecount, _ = video_length(fdir)\n",
    "\n",
    "\n",
    "    cap = cv2.VideoCapture(fdir)\n",
    "    print(file)\n",
    "    if file in ignore_list:\n",
    "        cap.release()\n",
    "        continue\n",
    "\n",
    "\n",
    "    while cap.isOpened():\n",
    "        ret, frame = cap.read()\n",
    "        frameid = int(cap.get(cv2.CAP_PROP_POS_FRAMES))\n",
    "\n",
    "        if ret:\n",
    "            if frameid in frame_to_id_dict[file].keys():\n",
    "\n",
    "                for obj_id in frame_to_id_dict[file][frameid]:\n",
    "                    out_object_path = outpath + str(obj_id) + '/'\n",
    "                    if not os.path.isdir(out_object_path):\n",
    "                        os.makedirs(out_object_path)\n",
    "                    out_img_path = out_object_path + str(frameid) + '.png'\n",
    "                    if not os.path.isfile(out_img_path):\n",
    "                        img_rgb = cv2.cvtColor(src=frame, code=cv2.COLOR_BGR2RGB)\n",
    "                        cv2.imwrite(out_img_path, img_rgb)\n",
    "                \n",
    "\n",
    "\n",
    "    cap.release()"
   ]
  }
 ],
 "metadata": {
  "kernelspec": {
   "display_name": "Python 3.9.13 ('venv': venv)",
   "language": "python",
   "name": "python3"
  },
  "language_info": {
   "codemirror_mode": {
    "name": "ipython",
    "version": 3
   },
   "file_extension": ".py",
   "mimetype": "text/x-python",
   "name": "python",
   "nbconvert_exporter": "python",
   "pygments_lexer": "ipython3",
   "version": "3.9.13"
  },
  "orig_nbformat": 4,
  "vscode": {
   "interpreter": {
    "hash": "120f4c29eaa4e2a1596396dc02d957afc0dd0bf0ff0521810b75f9e9f412f77b"
   }
  }
 },
 "nbformat": 4,
 "nbformat_minor": 2
}
