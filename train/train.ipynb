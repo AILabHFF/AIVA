{
 "cells": [
  {
   "cell_type": "markdown",
   "metadata": {},
   "source": [
    "# Imports"
   ]
  },
  {
   "cell_type": "code",
   "execution_count": 3,
   "metadata": {},
   "outputs": [],
   "source": [
    "# suppress futurewarning\n",
    "import warnings\n",
    "warnings.filterwarnings(\"ignore\", message=r\"Passing\", category=FutureWarning)\n",
    "\n",
    "# imports\n",
    "import sys, os\n",
    "\n",
    "import numpy as np\n",
    "import cv2\n",
    "\n",
    "#from PIL import Image\n",
    "import matplotlib.pyplot as plt\n",
    "from IPython.display import display\n",
    "\n",
    "import tensorflow as tf\n",
    "from tensorflow.keras import layers, models"
   ]
  },
  {
   "cell_type": "code",
   "execution_count": 4,
   "metadata": {},
   "outputs": [],
   "source": [
    "from keras.callbacks import CSVLogger, ModelCheckpoint, EarlyStopping\n",
    "from keras.callbacks import ReduceLROnPlateau\n",
    "from keras.preprocessing.image import ImageDataGenerator\n",
    "from sklearn.model_selection import train_test_split\n",
    "from sklearn import preprocessing\n",
    "\n",
    "import keras\n",
    "from keras import layers\n",
    "from keras.layers import Activation, Dropout, Conv2D, Dense\n",
    "from keras.layers import AveragePooling2D, BatchNormalization\n",
    "from keras.layers import GlobalAveragePooling2D, Flatten\n",
    "from keras.layers import Input, MaxPooling2D, SeparableConv2D\n",
    "\n",
    "from keras.models import Sequential, Model\n",
    "\n",
    "from keras.regularizers import l2"
   ]
  },
  {
   "cell_type": "markdown",
   "metadata": {},
   "source": [
    "# Load Dataset"
   ]
  },
  {
   "cell_type": "code",
   "execution_count": 5,
   "metadata": {},
   "outputs": [],
   "source": [
    "input_path = 'data/samples/'\n",
    "\n",
    "def load_images_data(img_path):\n",
    "    (_, _, filenames) = os.walk(input_path).__next__()\n",
    "    data_array = []\n",
    "    label_array = []\n",
    "\n",
    "    for f in filenames:\n",
    "        img = cv2.imread(img_path + f)\n",
    "        #img = cv2.cvtColor(img, cv2.COLOR_BGR2GRAY)  # Converting BGR to Grayscale\n",
    "        img = cv2.cvtColor(src=img, code=cv2.COLOR_BGR2RGB)  # Converting BGR to RGB\n",
    "        data_array.append(np.array(img))\n",
    "        label_array.append(f[0])\n",
    "    return np.array(data_array), np.array(label_array)\n",
    "\n",
    "\n",
    "X, y = load_images_data(input_path)\n",
    "\n",
    "lb = preprocessing.LabelBinarizer()\n",
    "y = lb.fit_transform(y)"
   ]
  },
  {
   "cell_type": "code",
   "execution_count": 6,
   "metadata": {},
   "outputs": [],
   "source": [
    "X_train, X_test, y_train, y_test = train_test_split(X, y, test_size=0.3, random_state=1)\n",
    "\n",
    "X_train, X_test = X_train / 255.0, X_test / 255.0\n",
    "\n",
    "print(len(y_train), len(y_test))\n",
    "print(sum(y_train), sum(y_test))"
   ]
  },
  {
   "cell_type": "code",
   "execution_count": 7,
   "metadata": {},
   "outputs": [],
   "source": [
    "imgpath = 'C:/Users/KILab/Documents/Chris Code/Geminiden/data/samples/y (30).png'\n",
    "img = cv2.imread(imgpath)\n",
    "img = cv2.cvtColor(img, cv2.COLOR_BGR2GRAY)  # Converting BGR to Grayscale\n",
    "#img = cv2.cvtColor(img, cv2.COLOR_BGR2RGB) # Converting BGR to RGB\n",
    "\n",
    "display(Image.fromarray(img))"
   ]
  },
  {
   "cell_type": "markdown",
   "metadata": {},
   "source": [
    "# ML Models"
   ]
  },
  {
   "cell_type": "code",
   "execution_count": 8,
   "metadata": {},
   "outputs": [],
   "source": [
    "#import keras\n",
    "\n",
    "def build_cnn_model(input_shape, num_classes):\n",
    "    model = keras.models.Sequential()\n",
    "    model.add(layers.Conv2D(96, (3, 3), activation='relu', input_shape=input_shape))\n",
    "    model.add(layers.MaxPooling2D((2, 2)))\n",
    "    model.add(layers.Conv2D(64, (3, 3), activation='relu'))\n",
    "    model.add(layers.MaxPooling2D((2, 2)))\n",
    "    model.add(layers.Conv2D(64, (3, 3), activation='relu'))\n",
    "\n",
    "    model.add(layers.Flatten())\n",
    "    model.add(layers.Dense(64, activation='relu'))\n",
    "    model.add(layers.Dense(num_classes, activation='sigmoid'))\n",
    "\n",
    "    #model.compile(optimizer='adam', loss=tf.keras.losses.SparseCategoricalCrossentropy(from_logits=True), metrics=['accuracy'])\n",
    "    model.compile(optimizer='adam', loss='binary_crossentropy',metrics=['accuracy'])\n",
    "\n",
    "    return model"
   ]
  },
  {
   "cell_type": "code",
   "execution_count": 9,
   "metadata": {},
   "outputs": [],
   "source": [
    "def build_xception_model(input_shape, l2_regularization, num_classes):\n",
    "    # model parameters/compilation\n",
    "    # model = mini_XCEPTION(input_shape, num_classes)\n",
    "    regularization = l2(l2_regularization)\n",
    "\n",
    "    # base\n",
    "    img_input = Input(input_shape)\n",
    "    x = Conv2D(8, (3, 3), strides=(1, 1), kernel_regularizer=regularization, use_bias=False)(img_input)\n",
    "    x = BatchNormalization()(x)\n",
    "    x = Activation('relu')(x)\n",
    "    x = Conv2D(8, (3, 3), strides=(1, 1), kernel_regularizer=regularization, use_bias=False)(x)\n",
    "    x = BatchNormalization()(x)\n",
    "    x = Activation('relu')(x)\n",
    "\n",
    "    # module 1\n",
    "    residual = Conv2D(16, (1, 1), strides=(2, 2), padding='same', use_bias=False)(x)\n",
    "    residual = BatchNormalization()(residual)\n",
    "    x = SeparableConv2D(16, (3, 3), padding='same', kernel_regularizer=regularization, use_bias=False)(x)\n",
    "    x = BatchNormalization()(x)\n",
    "    x = Activation('relu')(x)\n",
    "    x = SeparableConv2D(16, (3, 3), padding='same', kernel_regularizer=regularization, use_bias=False)(x)\n",
    "    x = BatchNormalization()(x)\n",
    "    x = MaxPooling2D((3, 3), strides=(2, 2), padding='same')(x)\n",
    "    x = layers.add([x, residual])\n",
    "\n",
    "    # module 2\n",
    "    residual = Conv2D(32, (1, 1), strides=(2, 2), padding='same', use_bias=False)(x)\n",
    "    residual = BatchNormalization()(residual)\n",
    "    x = SeparableConv2D(32, (3, 3), padding='same', kernel_regularizer=regularization, use_bias=False)(x)\n",
    "    x = BatchNormalization()(x)\n",
    "    x = Activation('relu')(x)\n",
    "    x = SeparableConv2D(32, (3, 3), padding='same', kernel_regularizer=regularization, use_bias=False)(x)\n",
    "    x = BatchNormalization()(x)\n",
    "    x = MaxPooling2D((3, 3), strides=(2, 2), padding='same')(x)\n",
    "    x = layers.add([x, residual])\n",
    "\n",
    "    # module 3\n",
    "    residual = Conv2D(64, (1, 1), strides=(2, 2),padding='same', use_bias=False)(x)\n",
    "    residual = BatchNormalization()(residual)\n",
    "    x = SeparableConv2D(64, (3, 3), padding='same',kernel_regularizer=regularization,use_bias=False)(x)\n",
    "    x = BatchNormalization()(x)\n",
    "    x = Activation('relu')(x)\n",
    "    x = SeparableConv2D(64, (3, 3), padding='same',kernel_regularizer=regularization,use_bias=False)(x)\n",
    "    x = BatchNormalization()(x)\n",
    "    x = MaxPooling2D((3, 3), strides=(2, 2), padding='same')(x)\n",
    "    x = layers.add([x, residual])\n",
    "\n",
    "    # module 4\n",
    "    residual = Conv2D(128, (1, 1), strides=(2, 2),padding='same', use_bias=False)(x)\n",
    "    residual = BatchNormalization()(residual)\n",
    "    x = SeparableConv2D(128, (3, 3), padding='same',kernel_regularizer=regularization,use_bias=False)(x)\n",
    "    x = BatchNormalization()(x)\n",
    "    x = Activation('relu')(x)\n",
    "    x = SeparableConv2D(128, (3, 3), padding='same',kernel_regularizer=regularization,use_bias=False)(x)\n",
    "    x = BatchNormalization()(x)\n",
    "    x = MaxPooling2D((3, 3), strides=(2, 2), padding='same')(x)\n",
    "    x = layers.add([x, residual])\n",
    "    x = Conv2D(num_classes, (3, 3), padding='same')(x)\n",
    "    x = GlobalAveragePooling2D()(x)\n",
    "    #output = Activation('softmax',name='predictions')(x) # softmax for multiclass classification\n",
    "    output = Activation('sigmoid',name='predictions')(x) # sigmoid for binary classifications\n",
    "\n",
    "    model = Model(img_input, output)\n",
    "    #model.compile(optimizer='adam', loss='categorical_crossentropy',metrics=['accuracy'])\n",
    "    model.compile(optimizer='adam', loss='binary_crossentropy',metrics=['accuracy'])\n",
    "    return model"
   ]
  },
  {
   "cell_type": "markdown",
   "metadata": {},
   "source": [
    "# ML Parameters"
   ]
  },
  {
   "cell_type": "code",
   "execution_count": 10,
   "metadata": {},
   "outputs": [],
   "source": [
    "dataset_path = '../../data/visuals/fer2013.csv'\n",
    "image_size = (96, 96)\n",
    "# parameters\n",
    "batch_size = 32\n",
    "num_epochs = 10\n",
    "input_shape = (96, 96, 3)\n",
    "validation_split = .2\n",
    "verbose = 1\n",
    "num_classes = 1\n",
    "patience = 50\n",
    "base_path = 'models/'\n",
    "l2_regularization = 0.01\n",
    "\n",
    "\n",
    "\n",
    "\n",
    "# data generator\n",
    "data_generator = ImageDataGenerator(\n",
    "                        featurewise_center=False,\n",
    "                        featurewise_std_normalization=False,\n",
    "                        rotation_range=40,\n",
    "                        width_shift_range=0.2,\n",
    "                        height_shift_range=0.2,\n",
    "                        zoom_range=.2,\n",
    "                        horizontal_flip=True)\n",
    "\n",
    "# callbacks\n",
    "log_file_path = base_path + '_emotion_training.log'\n",
    "csv_logger = CSVLogger(log_file_path, append=False)\n",
    "early_stop = EarlyStopping('val_loss', patience=patience)\n",
    "reduce_lr = ReduceLROnPlateau('val_loss', factor=0.1, patience=int(patience/4), verbose=1)\n",
    "trained_models_path = base_path + '_mini_XCEPTION'\n",
    "model_names = trained_models_path + '.{epoch:02d}-{val_acc:.2f}.hdf5'\n",
    "model_checkpoint = ModelCheckpoint(model_names, 'val_loss', verbose=1,save_best_only=True)\n",
    "callbacks = [model_checkpoint, csv_logger, early_stop, reduce_lr]\n",
    "\n",
    "\n"
   ]
  },
  {
   "cell_type": "code",
   "execution_count": null,
   "metadata": {},
   "outputs": [],
   "source": [
    "xception_model = build_xception_model(input_shape, l2_regularization, num_classes)\n",
    "xception_model.summary()"
   ]
  },
  {
   "cell_type": "markdown",
   "metadata": {},
   "source": [
    "# Training"
   ]
  },
  {
   "cell_type": "code",
   "execution_count": null,
   "metadata": {},
   "outputs": [],
   "source": [
    "cnn_model = build_cnn_model(input_shape, num_classes=1)\n",
    "history = cnn_model.fit(X_train, y_train, epochs=10, validation_data=(X_test, y_test))\n",
    "\n",
    "#history = cnn_model.fit_generator(data_generator.flow(X_train, y_train, batch_size),\n",
    "#                    steps_per_epoch=len(X_train) / batch_size,\n",
    "#                    epochs=num_epochs,\n",
    "#                    verbose=1,\n",
    "#                    callbacks=callbacks,\n",
    "#                    validation_data=(X_test, y_test)\n",
    "#                    )"
   ]
  },
  {
   "cell_type": "code",
   "execution_count": null,
   "metadata": {},
   "outputs": [],
   "source": [
    "history = xception_model.fit_generator(data_generator.flow(X_train, y_train, batch_size),\n",
    "                    steps_per_epoch=len(X_train) / batch_size,\n",
    "                    epochs=num_epochs,\n",
    "                    verbose=1,\n",
    "                    callbacks=callbacks,\n",
    "                    validation_data=(X_test, y_test)\n",
    "                    )"
   ]
  },
  {
   "cell_type": "code",
   "execution_count": null,
   "metadata": {},
   "outputs": [],
   "source": [
    "model_path = 'C:/Users/KILab/Documents/Chris Code/Geminiden/gemi_model.hdf5'\n",
    "m = cnn_model\n",
    "m.save(model_path)\n",
    "geminid_model = tf.keras.models.load_model(model_path, custom_objects=None, compile=True)"
   ]
  },
  {
   "cell_type": "code",
   "execution_count": null,
   "metadata": {},
   "outputs": [],
   "source": [
    "m = cnn_model\n",
    "xp = m.predict(np.array(X_test))\n",
    "print(np.round(xp))\n"
   ]
  },
  {
   "cell_type": "code",
   "execution_count": null,
   "metadata": {},
   "outputs": [],
   "source": [
    "ip = 'D:/Geminiden 2021/images3/'\n",
    "\n",
    "def load_images_data(input_path):\n",
    "    (_, _, filenames) = os.walk(input_path).__next__()\n",
    "    data_array = []\n",
    "    label_array = []\n",
    "\n",
    "    for f in filenames:\n",
    "        img = cv2.imread(input_path + f)\n",
    "        #img = cv2.cvtColor(img, cv2.COLOR_BGR2GRAY)  # Converting BGR to Grayscale\n",
    "        img = cv2.cvtColor(src=img, code=cv2.COLOR_BGR2RGB)  # Converting BGR to RGB\n",
    "        data_array.append(np.array(img))\n",
    "        label_array.append(f[0])\n",
    "    return np.array(data_array), np.array(label_array)\n",
    "\n",
    "\n",
    "X_val, y_val = load_images_data(ip)\n",
    "\n",
    "lb = preprocessing.LabelBinarizer()\n",
    "y_val = lb.fit_transform(y_val)"
   ]
  },
  {
   "cell_type": "code",
   "execution_count": null,
   "metadata": {},
   "outputs": [],
   "source": [
    "xp = m.predict(np.array(X_val))\n",
    "predictedl = np.round(xp)\n",
    "\n",
    "from sklearn.metrics import accuracy_score\n"
   ]
  },
  {
   "cell_type": "code",
   "execution_count": null,
   "metadata": {},
   "outputs": [],
   "source": [
    "print(accuracy_score(y_val, predictedl))"
   ]
  },
  {
   "cell_type": "code",
   "execution_count": null,
   "metadata": {},
   "outputs": [],
   "source": [
    "plt.plot(history.history['accuracy'], label='accuracy')\n",
    "plt.plot(history.history['val_accuracy'], label = 'val_accuracy')\n",
    "plt.xlabel('Epoch')\n",
    "plt.ylabel('Accuracy')\n",
    "plt.ylim([0.5, 1])\n",
    "plt.legend(loc='lower right')\n",
    "\n",
    "test_loss, test_acc = m.evaluate(X_test,  y_test, verbose=2)"
   ]
  }
 ],
 "metadata": {
  "kernelspec": {
   "display_name": "Python 3.8.10 ('venv': venv)",
   "language": "python",
   "name": "python3"
  },
  "language_info": {
   "codemirror_mode": {
    "name": "ipython",
    "version": 3
   },
   "file_extension": ".py",
   "mimetype": "text/x-python",
   "name": "python",
   "nbconvert_exporter": "python",
   "pygments_lexer": "ipython3",
   "version": "3.8.10"
  },
  "orig_nbformat": 4,
  "vscode": {
   "interpreter": {
    "hash": "ad1f55e9a1be2b9390b42fb2cf06d8c4513f6649b65242885d803b59c0506408"
   }
  }
 },
 "nbformat": 4,
 "nbformat_minor": 2
}
